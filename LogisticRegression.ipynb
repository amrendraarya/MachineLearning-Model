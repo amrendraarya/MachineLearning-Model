{
 "cells": [
  {
   "cell_type": "code",
   "execution_count": 1,
   "metadata": {},
   "outputs": [],
   "source": [
    "import numpy as np\n",
    "import pandas as pd\n",
    "from sklearn.model_selection import train_test_split\n",
    "import matplotlib.pyplot as plt\n",
    "from sklearn.linear_model import LogisticRegression\n",
    "from sklearn.metrics import accuracy_score\n",
    "from sklearn.metrics import confusion_matrix\n"
   ]
  },
  {
   "cell_type": "code",
   "execution_count": 2,
   "metadata": {},
   "outputs": [],
   "source": [
    "marks=pd.read_csv('marks.txt',header=None)"
   ]
  },
  {
   "cell_type": "code",
   "execution_count": 3,
   "metadata": {},
   "outputs": [],
   "source": [
    "X=marks.iloc[:,:2]\n",
    "Y=marks.iloc[:,-1]"
   ]
  },
  {
   "cell_type": "code",
   "execution_count": 4,
   "metadata": {},
   "outputs": [
    {
     "data": {
      "text/plain": [
       "0     0\n",
       "1     0\n",
       "2     0\n",
       "3     1\n",
       "4     1\n",
       "5     0\n",
       "6     1\n",
       "7     1\n",
       "8     1\n",
       "9     1\n",
       "10    0\n",
       "11    0\n",
       "12    1\n",
       "13    1\n",
       "14    0\n",
       "15    1\n",
       "16    1\n",
       "17    0\n",
       "18    1\n",
       "19    1\n",
       "20    0\n",
       "21    1\n",
       "22    0\n",
       "23    0\n",
       "24    1\n",
       "25    1\n",
       "26    1\n",
       "27    0\n",
       "28    0\n",
       "29    0\n",
       "     ..\n",
       "70    0\n",
       "71    1\n",
       "72    1\n",
       "73    1\n",
       "74    1\n",
       "75    1\n",
       "76    1\n",
       "77    1\n",
       "78    0\n",
       "79    0\n",
       "80    1\n",
       "81    1\n",
       "82    1\n",
       "83    1\n",
       "84    1\n",
       "85    1\n",
       "86    0\n",
       "87    1\n",
       "88    1\n",
       "89    0\n",
       "90    1\n",
       "91    1\n",
       "92    0\n",
       "93    1\n",
       "94    1\n",
       "95    1\n",
       "96    1\n",
       "97    1\n",
       "98    1\n",
       "99    1\n",
       "Name: 2, Length: 100, dtype: int64"
      ]
     },
     "execution_count": 4,
     "metadata": {},
     "output_type": "execute_result"
    }
   ],
   "source": [
    "Y"
   ]
  },
  {
   "cell_type": "code",
   "execution_count": 21,
   "metadata": {},
   "outputs": [],
   "source": [
    "admitted=marks.loc[Y==1]\n",
    "not_admitted=marks.loc[Y==0]\n"
   ]
  },
  {
   "cell_type": "code",
   "execution_count": 26,
   "metadata": {},
   "outputs": [
    {
     "data": {
      "image/png": "[encoded data removed]",
      "text/plain": [
       "<Figure size 432x288 with 1 Axes>"
      ]
     },
     "metadata": {
      "needs_background": "light"
     },
     "output_type": "display_data"
    }
   ],
   "source": [
    "plt.scatter(admitted.iloc[:,0],admitted.iloc[:,1],s=10,label='Admitted')\n",
    "plt.scatter(not_admitted.iloc[:,0],not_admitted.iloc[:,1],s=10,label='Not Admitted')\n",
    "plt.legend()\n",
    "plt.show()"
   ]
  },
  {
   "cell_type": "code",
   "execution_count": 5,
   "metadata": {},
   "outputs": [],
   "source": [
    "x_train1,x_test1,y_train1,y_test1=train_test_split(X,Y, test_size=0.20,random_state=0)\n"
   ]
  },
  {
   "cell_type": "code",
   "execution_count": 6,
   "metadata": {},
   "outputs": [
    {
     "name": "stdout",
     "output_type": "stream",
     "text": [
      "[[0.03032132 0.03124498]]\n",
      "[-3.4294559]\n"
     ]
    },
    {
     "name": "stderr",
     "output_type": "stream",
     "text": [
      "C:\\Users\\Abhi\\Anaconda3\\lib\\site-packages\\sklearn\\linear_model\\logistic.py:433: FutureWarning: Default solver will be changed to 'lbfgs' in 0.22. Specify a solver to silence this warning.\n",
      "  FutureWarning)\n"
     ]
    }
   ],
   "source": [
    "# Model Intilization\n",
    "reg=LogisticRegression()\n",
    "#DataFitting\n",
    "reg=reg.fit(x_train1,y_train1)\n",
    "print(reg.coef_)\n",
    "print(reg.intercept_)"
   ]
  },
  {
   "cell_type": "code",
   "execution_count": 7,
   "metadata": {},
   "outputs": [
    {
     "data": {
      "text/plain": [
       "array([1, 1, 0, 0, 1, 1, 1, 1, 0, 1, 0, 0, 0, 1, 1, 1, 0, 1, 1, 1],\n",
       "      dtype=int64)"
      ]
     },
     "execution_count": 7,
     "metadata": {},
     "output_type": "execute_result"
    }
   ],
   "source": [
    "Y_pred=reg.predict(x_test1)\n",
    "Y_pred"
   ]
  },
  {
   "cell_type": "code",
   "execution_count": 8,
   "metadata": {
    "scrolled": true
   },
   "outputs": [
    {
     "name": "stdout",
     "output_type": "stream",
     "text": [
      "Confusion Matrix is:\n",
      "[[ 7  1]\n",
      " [ 0 12]]\n"
     ]
    }
   ],
   "source": [
    "cm=confusion_matrix(y_test1,Y_pred)\n",
    "print(\"Confusion Matrix is:\",cm, sep='\\n')"
   ]
  },
  {
   "cell_type": "code",
   "execution_count": 9,
   "metadata": {},
   "outputs": [
    {
     "name": "stdout",
     "output_type": "stream",
     "text": [
      "LRR Score: 95.0\n"
     ]
    }
   ],
   "source": [
    "print(\"LRR Score:\", reg.score(x_test1,y_test1)*100)\n"
   ]
  },
  {
   "cell_type": "code",
   "execution_count": 10,
   "metadata": {},
   "outputs": [
    {
     "data": {
      "text/plain": [
       "array([[0.40071976, 0.59928024],\n",
       "       [0.42315594, 0.57684406],\n",
       "       [0.51616621, 0.48383379],\n",
       "       [0.51429434, 0.48570566],\n",
       "       [0.13486256, 0.86513744],\n",
       "       [0.18539035, 0.81460965],\n",
       "       [0.42245172, 0.57754828],\n",
       "       [0.33457637, 0.66542363],\n",
       "       [0.58626863, 0.41373137],\n",
       "       [0.35121868, 0.64878132],\n",
       "       [0.62141171, 0.37858829],\n",
       "       [0.65379385, 0.34620615],\n",
       "       [0.56664833, 0.43335167],\n",
       "       [0.15097318, 0.84902682],\n",
       "       [0.4255642 , 0.5744358 ],\n",
       "       [0.33036689, 0.66963311],\n",
       "       [0.59162222, 0.40837778],\n",
       "       [0.25192999, 0.74807001],\n",
       "       [0.42114915, 0.57885085],\n",
       "       [0.16667003, 0.83332997]])"
      ]
     },
     "execution_count": 10,
     "metadata": {},
     "output_type": "execute_result"
    }
   ],
   "source": [
    "probs=reg.predict_proba(x_test1)\n",
    "probs"
   ]
  },
  {
   "cell_type": "code",
   "execution_count": 11,
   "metadata": {},
   "outputs": [
    {
     "name": "stdout",
     "output_type": "stream",
     "text": [
      "Area under the curve: 0.9895833333333334\n"
     ]
    }
   ],
   "source": [
    "from sklearn import metrics\n",
    "prob_postive=probs[:,1]\n",
    "fpr, tpr, threshold= metrics.roc_curve(y_test1,prob_postive)\n",
    "roc_auc=metrics.auc(fpr,tpr)\n",
    "print('Area under the curve:',roc_auc)"
   ]
  },
  {
   "cell_type": "code",
   "execution_count": 15,
   "metadata": {},
   "outputs": [
    {
     "data": {
      "image/png": "[encoded data removed]",
      "text/plain": [
       "<Figure size 432x288 with 1 Axes>"
      ]
     },
     "metadata": {
      "needs_background": "light"
     },
     "output_type": "display_data"
    }
   ],
   "source": [
    "#plot roc curve\n",
    "import matplotlib.pyplot as plt\n",
    "plt.title('Receiver Operating Characteristic')\n",
    "plt.plot(fpr,tpr,\"green\",label='AUC = %0.2f' % roc_auc)\n",
    "plt.legend(loc= 'lower right')\n",
    "plt.plot([0,1],[0,1],color='darkblue',linestyle='--')\n",
    "plt.ylabel('True Positive Rate')\n",
    "plt.xlabel('False Positive Rate')\n",
    "plt.show()"
   ]
  },
  {
   "cell_type": "code",
   "execution_count": null,
   "metadata": {},
   "outputs": [],
   "source": []
  }
 ],
 "metadata": {
  "kernelspec": {
   "display_name": "Python 3",
   "language": "python",
   "name": "python3"
  },
  "language_info": {
   "codemirror_mode": {
    "name": "ipython",
    "version": 3
   },
   "file_extension": ".py",
   "mimetype": "text/x-python",
   "name": "python",
   "nbconvert_exporter": "python",
   "pygments_lexer": "ipython3",
   "version": "3.7.4"
  }
 },
 "nbformat": 4,
 "nbformat_minor": 2
}
